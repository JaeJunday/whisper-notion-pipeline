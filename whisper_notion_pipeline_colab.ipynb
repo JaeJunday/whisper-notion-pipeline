{
 "cells": [
  {
   "cell_type": "markdown",
   "metadata": {},
   "source": "# Whisper 음성 전사 도구\n\n**간단한 4단계 실행:**\n1. 패키지 설치\n2. Google Drive 마운트\n3. 설정 및 함수 정의\n4. 실행\n\n결과는 Google Drive의 `whisper_notion_pipeline/output` 폴더에 저장됩니다.",
   "outputs": []
  },
  {
   "cell_type": "code",
   "metadata": {},
   "outputs": [],
   "source": "# 1단계: 패키지 설치 및 GPU 확인\n!nvidia-smi\n%pip install -q openai-whisper\n\nimport torch\nprint(f\"\\nGPU 사용 가능: {torch.cuda.is_available()}\")\nif torch.cuda.is_available():\n    print(f\"GPU 이름: {torch.cuda.get_device_name(0)}\")"
  },
  {
   "cell_type": "code",
   "source": "# 2단계: Google Drive 마운트\nfrom google.colab import drive\ndrive.mount('/content/drive')\n\nimport os\nWORK_DIR = '/content/drive/MyDrive/whisper_notion_pipeline'\nos.makedirs(WORK_DIR, exist_ok=True)\nos.makedirs(f'{WORK_DIR}/input', exist_ok=True)\nos.makedirs(f'{WORK_DIR}/output', exist_ok=True)\n\nprint(f\"작업 디렉토리: {WORK_DIR}\")\nprint(\"✓ input 폴더에 오디오 파일을 업로드하세요\")",
   "metadata": {},
   "outputs": []
  },
  {
   "cell_type": "code",
   "source": "# 3단계: 설정 및 함수 정의\nimport whisper\nimport json\nimport time\nfrom pathlib import Path\nimport glob\n\n# Whisper 모델 설정\nMODEL_NAME = \"base\"  # tiny, base, small, medium, large\nLANGUAGE = \"ko\"  # 언어 설정\n\ndef process_audio_file(audio_path):\n    \"\"\"오디오 파일을 텍스트로 변환\"\"\"\n    audio_path = Path(audio_path)\n    \n    # 이미 처리된 파일 확인\n    output_dir = Path(f\"{WORK_DIR}/output/{audio_path.stem}\")\n    if output_dir.exists() and (output_dir / \"transcript.txt\").exists():\n        print(f\"⏭️  이미 처리됨: {audio_path.name}\")\n        return None\n    \n    # 출력 디렉토리 생성\n    output_dir.mkdir(parents=True, exist_ok=True)\n    \n    print(f\"\\n{'='*50}\")\n    print(f\"🎤 처리 시작: {audio_path.name}\")\n    print(f\"{'='*50}\")\n    \n    # Whisper 모델 로드 및 전사\n    print(\"🔄 Whisper 모델 로드 중...\")\n    model = whisper.load_model(MODEL_NAME, device=\"cuda\" if torch.cuda.is_available() else \"cpu\")\n    print(f\"✓ 모델 로드 완료: {MODEL_NAME}\")\n    \n    print(f\"\\n🎧 오디오 전사 시작...\")\n    start_time = time.time()\n    \n    # 진행 상황을 보여주기 위해 verbose=True 추가\n    result = model.transcribe(\n        str(audio_path), \n        language=LANGUAGE,\n        verbose=True,  # 진행 상황 표시\n        fp16=torch.cuda.is_available()  # GPU 사용 시 더 빠른 처리\n    )\n    \n    elapsed_time = time.time() - start_time\n    print(f\"\\n✓ 전사 완료! (소요 시간: {elapsed_time:.1f}초)\")\n    \n    # 결과 저장\n    print(f\"\\n💾 결과 저장 중...\")\n    with open(output_dir / \"transcript.txt\", \"w\", encoding=\"utf-8\") as f:\n        f.write(result['text'])\n    \n    with open(output_dir / \"report.json\", \"w\", encoding=\"utf-8\") as f:\n        json.dump({\n            \"file_name\": audio_path.name,\n            \"text\": result['text'],\n            \"language\": result['language'],\n            \"duration\": f\"{elapsed_time:.1f}초\"\n        }, f, ensure_ascii=False, indent=2)\n    \n    print(f\"✓ 저장 완료: {output_dir}\")\n    print(f\"\\n📝 전사 결과 미리보기:\")\n    print(f\"   {result['text'][:100]}...\" if len(result['text']) > 100 else f\"   {result['text']}\")\n    \n    return result\n\nprint(\"✓ 설정 완료\")",
   "metadata": {},
   "outputs": []
  },
  {
   "cell_type": "code",
   "source": "# 4단계: 실행 - 모든 오디오 파일 처리\naudio_extensions = ['*.mp3', '*.m4a', '*.wav', '*.flac', '*.ogg']\naudio_files = []\n\nfor ext in audio_extensions:\n    audio_files.extend(glob.glob(f\"{WORK_DIR}/input/{ext}\"))\n\nif audio_files:\n    print(f\"🔍 발견된 파일: {len(audio_files)}개\")\n    for i, file in enumerate(audio_files, 1):\n        print(f\"   {i}. {os.path.basename(file)}\")\n    \n    print(f\"\\n🚀 전체 처리 시작...\\n\")\n    total_start = time.time()\n    \n    for idx, audio_file in enumerate(audio_files, 1):\n        print(f\"\\n[{idx}/{len(audio_files)}] 파일 처리\")\n        process_audio_file(audio_file)\n    \n    total_time = time.time() - total_start\n    print(f\"\\n{'='*50}\")\n    print(f\"✅ 모든 처리 완료!\")\n    print(f\"   총 소요 시간: {total_time:.1f}초\")\n    print(f\"   평균 처리 시간: {total_time/len(audio_files):.1f}초/파일\")\n    print(f\"{'='*50}\")\nelse:\n    print(\"❌ input 폴더에 오디오 파일이 없습니다.\")\n    print(f\"   경로: {WORK_DIR}/input/\")",
   "metadata": {},
   "outputs": []
  }
 ],
 "metadata": {
  "kernelspec": {
   "display_name": "Python 3",
   "language": "python",
   "name": "python3"
  },
  "language_info": {
   "codemirror_mode": {
    "name": "ipython",
    "version": 3
   },
   "file_extension": ".py",
   "mimetype": "text/x-python",
   "name": "python",
   "nbconvert_exporter": "python",
   "pygments_lexer": "ipython3",
   "version": "3.10.0"
  }
 },
 "nbformat": 4,
 "nbformat_minor": 4
}