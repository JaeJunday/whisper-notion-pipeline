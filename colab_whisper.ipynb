{
 "cells": [
  {
   "cell_type": "markdown",
   "metadata": {},
   "source": [
    "# Whisper GPU Transcription on Google Colab\n",
    "\n",
    "이 노트북을 Google Colab에서 실행하세요:\n",
    "1. 이 파일을 Google Colab에 업로드\n",
    "2. 런타임 → 런타임 유형 변경 → GPU 선택 (T4 추천)\n",
    "3. 아래 셀들을 순서대로 실행"
   ]
  },
  {
   "cell_type": "code",
   "execution_count": null,
   "metadata": {},
   "outputs": [],
   "source": [
    "# GPU 확인\n",
    "!nvidia-smi"
   ]
  },
  {
   "cell_type": "code",
   "execution_count": null,
   "metadata": {},
   "outputs": [],
   "source": [
    "# Whisper 설치\n",
    "!pip install -q openai-whisper"
   ]
  },
  {
   "cell_type": "code",
   "execution_count": null,
   "metadata": {},
   "outputs": [],
   "source": [
    "# Google Drive 마운트 (파일 업로드/다운로드용)\n",
    "from google.colab import drive\n",
    "drive.mount('/content/drive')"
   ]
  },
  {
   "cell_type": "code",
   "execution_count": null,
   "metadata": {},
   "outputs": [],
   "source": [
    "# 파일 직접 업로드 (작은 파일용)\n",
    "from google.colab import files\n",
    "uploaded = files.upload()\n",
    "\n",
    "# 업로드된 파일명 확인\n",
    "audio_file = list(uploaded.keys())[0]\n",
    "print(f\"업로드된 파일: {audio_file}\")"
   ]
  },
  {
   "cell_type": "code",
   "execution_count": null,
   "metadata": {},
   "outputs": [],
   "source": [
    "# Whisper 실행 함수\n",
    "import whisper\n",
    "import time\n",
    "import torch\n",
    "\n",
    "def transcribe_audio(audio_path, model_name=\"base\"):\n",
    "    # GPU 사용 확인\n",
    "    device = \"cuda\" if torch.cuda.is_available() else \"cpu\"\n",
    "    print(f\"Using device: {device}\")\n",
    "    \n",
    "    # 모델 로드\n",
    "    print(f\"Loading {model_name} model...\")\n",
    "    model = whisper.load_model(model_name, device=device)\n",
    "    \n",
    "    # 전사 시작\n",
    "    print(f\"\\nTranscribing {audio_path}...\")\n",
    "    start_time = time.time()\n",
    "    \n",
    "    result = model.transcribe(\n",
    "        audio_path,\n",
    "        language=\"ko\",  # 한국어 지정 (더 빠름)\n",
    "        fp16=True,      # GPU에서 FP16 사용 (더 빠름)\n",
    "        verbose=True\n",
    "    )\n",
    "    \n",
    "    elapsed_time = time.time() - start_time\n",
    "    print(f\"\\n전사 완료! 소요 시간: {elapsed_time:.1f}초\")\n",
    "    \n",
    "    return result"
   ]
  },
  {
   "cell_type": "code",
   "execution_count": null,
   "metadata": {},
   "outputs": [],
   "source": [
    "# 전사 실행 (모델 선택: tiny, base, small, medium, large, large-v3)\n",
    "result = transcribe_audio(audio_file, model_name=\"base\")\n",
    "\n",
    "# 결과 확인\n",
    "print(f\"\\n언어: {result['language']}\")\n",
    "print(f\"텍스트 길이: {len(result['text'])} 글자\")\n",
    "print(f\"\\n전사 결과 (처음 500자):\\n{result['text'][:500]}...\")"
   ]
  },
  {
   "cell_type": "code",
   "execution_count": null,
   "metadata": {},
   "outputs": [],
   "source": [
    "# 결과 저장\n",
    "output_filename = audio_file.rsplit('.', 1)[0] + '_transcript.txt'\n",
    "\n",
    "# 텍스트 파일로 저장\n",
    "with open(output_filename, 'w', encoding='utf-8') as f:\n",
    "    f.write(result['text'])\n",
    "\n",
    "# SRT 자막 파일 생성\n",
    "def write_srt(result, filename):\n",
    "    with open(filename, 'w', encoding='utf-8') as f:\n",
    "        for i, segment in enumerate(result['segments'], 1):\n",
    "            f.write(f\"{i}\\n\")\n",
    "            f.write(f\"{format_timestamp(segment['start'])} --> {format_timestamp(segment['end'])}\\n\")\n",
    "            f.write(f\"{segment['text'].strip()}\\n\\n\")\n",
    "\n",
    "def format_timestamp(seconds):\n",
    "    hours = int(seconds // 3600)\n",
    "    minutes = int((seconds % 3600) // 60)\n",
    "    secs = int(seconds % 60)\n",
    "    millis = int((seconds % 1) * 1000)\n",
    "    return f\"{hours:02d}:{minutes:02d}:{secs:02d},{millis:03d}\"\n",
    "\n",
    "srt_filename = audio_file.rsplit('.', 1)[0] + '.srt'\n",
    "write_srt(result, srt_filename)\n",
    "\n",
    "print(f\"저장 완료:\")\n",
    "print(f\"- 텍스트: {output_filename}\")\n",
    "print(f\"- 자막: {srt_filename}\")"
   ]
  },
  {
   "cell_type": "code",
   "execution_count": null,
   "metadata": {},
   "outputs": [],
   "source": [
    "# 파일 다운로드\n",
    "files.download(output_filename)\n",
    "files.download(srt_filename)"
   ]
  },
  {
   "cell_type": "code",
   "execution_count": null,
   "metadata": {},
   "outputs": [],
   "source": [
    "# (선택) Google Drive에 저장\n",
    "import shutil\n",
    "\n",
    "# Drive의 원하는 폴더로 복사\n",
    "drive_folder = '/content/drive/MyDrive/whisper_results/'\n",
    "!mkdir -p {drive_folder}\n",
    "\n",
    "shutil.copy(output_filename, drive_folder)\n",
    "shutil.copy(srt_filename, drive_folder)\n",
    "\n",
    "print(f\"Google Drive에 저장 완료: {drive_folder}\")"
   ]
  },
  {
   "cell_type": "markdown",
   "metadata": {},
   "source": [
    "## 배치 처리 (여러 파일 한번에)\n",
    "\n",
    "Google Drive에 여러 오디오 파일이 있을 때 사용하세요."
   ]
  },
  {
   "cell_type": "code",
   "execution_count": null,
   "metadata": {},
   "outputs": [],
   "source": [
    "import os\n",
    "import glob\n",
    "\n",
    "# Drive의 오디오 폴더 지정\n",
    "audio_folder = '/content/drive/MyDrive/audio_files/'\n",
    "output_folder = '/content/drive/MyDrive/whisper_results/'\n",
    "\n",
    "# 오디오 파일 찾기\n",
    "audio_files = glob.glob(os.path.join(audio_folder, '*.m4a')) + \\\n",
    "              glob.glob(os.path.join(audio_folder, '*.mp3')) + \\\n",
    "              glob.glob(os.path.join(audio_folder, '*.wav'))\n",
    "\n",
    "print(f\"찾은 파일 {len(audio_files)}개:\")\n",
    "for f in audio_files:\n",
    "    print(f\"  - {os.path.basename(f)}\")\n",
    "\n",
    "# 모든 파일 처리\n",
    "for audio_file in audio_files:\n",
    "    print(f\"\\n{'='*50}\")\n",
    "    print(f\"처리 중: {os.path.basename(audio_file)}\")\n",
    "    \n",
    "    try:\n",
    "        result = transcribe_audio(audio_file, model_name=\"base\")\n",
    "        \n",
    "        # 결과 저장\n",
    "        base_name = os.path.basename(audio_file).rsplit('.', 1)[0]\n",
    "        txt_path = os.path.join(output_folder, base_name + '_transcript.txt')\n",
    "        \n",
    "        with open(txt_path, 'w', encoding='utf-8') as f:\n",
    "            f.write(result['text'])\n",
    "        \n",
    "        print(f\"✓ 저장 완료: {txt_path}\")\n",
    "        \n",
    "    except Exception as e:\n",
    "        print(f\"✗ 오류 발생: {e}\")"
   ]
  }
 ],
 "metadata": {
  "kernelspec": {
   "display_name": "Python 3",
   "language": "python",
   "name": "python3"
  },
  "language_info": {
   "codemirror_mode": {
    "name": "ipython",
    "version": 3
   },
   "file_extension": ".py",
   "mimetype": "text/x-python",
   "name": "python",
   "nbconvert_exporter": "python",
   "pygments_lexer": "ipython3",
   "version": "3.10.0"
  }
 },
 "nbformat": 4,
 "nbformat_minor": 4
}